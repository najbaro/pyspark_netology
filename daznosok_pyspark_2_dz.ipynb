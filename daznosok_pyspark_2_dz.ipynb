{
 "cells": [
  {
   "cell_type": "code",
   "execution_count": 75,
   "id": "e99dc605",
   "metadata": {},
   "outputs": [],
   "source": [
    "from pyspark.sql import SparkSession\n",
    "from pyspark.sql import functions as F\n",
    "from pyspark.sql import Window as W"
   ]
  },
  {
   "cell_type": "code",
   "execution_count": 26,
   "id": "045e1eaa",
   "metadata": {},
   "outputs": [],
   "source": [
    "spark = SparkSession.builder.appName('test_name').getOrCreate()"
   ]
  },
  {
   "cell_type": "code",
   "execution_count": 32,
   "id": "8499ed72",
   "metadata": {},
   "outputs": [
    {
     "name": "stderr",
     "output_type": "stream",
     "text": [
      "                                                                                \r"
     ]
    }
   ],
   "source": [
    "df = spark.read.option('inferSchema', 'true')\\\n",
    ".option('header', 'true').csv(\"/users/dznosok/downloads/owid-covid-data.csv\")"
   ]
  },
  {
   "cell_type": "code",
   "execution_count": 33,
   "id": "57717c48",
   "metadata": {},
   "outputs": [
    {
     "name": "stdout",
     "output_type": "stream",
     "text": [
      "root\n",
      " |-- iso_code: string (nullable = true)\n",
      " |-- continent: string (nullable = true)\n",
      " |-- location: string (nullable = true)\n",
      " |-- date: date (nullable = true)\n",
      " |-- total_cases: double (nullable = true)\n",
      " |-- new_cases: double (nullable = true)\n",
      " |-- new_cases_smoothed: double (nullable = true)\n",
      " |-- total_deaths: double (nullable = true)\n",
      " |-- new_deaths: double (nullable = true)\n",
      " |-- new_deaths_smoothed: double (nullable = true)\n",
      " |-- total_cases_per_million: double (nullable = true)\n",
      " |-- new_cases_per_million: double (nullable = true)\n",
      " |-- new_cases_smoothed_per_million: double (nullable = true)\n",
      " |-- total_deaths_per_million: double (nullable = true)\n",
      " |-- new_deaths_per_million: double (nullable = true)\n",
      " |-- new_deaths_smoothed_per_million: double (nullable = true)\n",
      " |-- reproduction_rate: double (nullable = true)\n",
      " |-- icu_patients: double (nullable = true)\n",
      " |-- icu_patients_per_million: double (nullable = true)\n",
      " |-- hosp_patients: double (nullable = true)\n",
      " |-- hosp_patients_per_million: double (nullable = true)\n",
      " |-- weekly_icu_admissions: double (nullable = true)\n",
      " |-- weekly_icu_admissions_per_million: double (nullable = true)\n",
      " |-- weekly_hosp_admissions: double (nullable = true)\n",
      " |-- weekly_hosp_admissions_per_million: double (nullable = true)\n",
      " |-- new_tests: double (nullable = true)\n",
      " |-- total_tests: double (nullable = true)\n",
      " |-- total_tests_per_thousand: double (nullable = true)\n",
      " |-- new_tests_per_thousand: double (nullable = true)\n",
      " |-- new_tests_smoothed: double (nullable = true)\n",
      " |-- new_tests_smoothed_per_thousand: double (nullable = true)\n",
      " |-- positive_rate: double (nullable = true)\n",
      " |-- tests_per_case: double (nullable = true)\n",
      " |-- tests_units: string (nullable = true)\n",
      " |-- total_vaccinations: double (nullable = true)\n",
      " |-- people_vaccinated: double (nullable = true)\n",
      " |-- people_fully_vaccinated: double (nullable = true)\n",
      " |-- new_vaccinations: double (nullable = true)\n",
      " |-- new_vaccinations_smoothed: double (nullable = true)\n",
      " |-- total_vaccinations_per_hundred: double (nullable = true)\n",
      " |-- people_vaccinated_per_hundred: double (nullable = true)\n",
      " |-- people_fully_vaccinated_per_hundred: double (nullable = true)\n",
      " |-- new_vaccinations_smoothed_per_million: double (nullable = true)\n",
      " |-- stringency_index: double (nullable = true)\n",
      " |-- population: double (nullable = true)\n",
      " |-- population_density: double (nullable = true)\n",
      " |-- median_age: double (nullable = true)\n",
      " |-- aged_65_older: double (nullable = true)\n",
      " |-- aged_70_older: double (nullable = true)\n",
      " |-- gdp_per_capita: double (nullable = true)\n",
      " |-- extreme_poverty: double (nullable = true)\n",
      " |-- cardiovasc_death_rate: double (nullable = true)\n",
      " |-- diabetes_prevalence: double (nullable = true)\n",
      " |-- female_smokers: double (nullable = true)\n",
      " |-- male_smokers: double (nullable = true)\n",
      " |-- handwashing_facilities: double (nullable = true)\n",
      " |-- hospital_beds_per_thousand: double (nullable = true)\n",
      " |-- life_expectancy: double (nullable = true)\n",
      " |-- human_development_index: double (nullable = true)\n",
      "\n"
     ]
    }
   ],
   "source": [
    "df.printSchema()"
   ]
  },
  {
   "cell_type": "markdown",
   "id": "476c8a26",
   "metadata": {},
   "source": [
    "Выберите 15 стран с наибольшим процентом переболевших на 31 марта (в выходящем датасете необходимы колонки: iso_code, страна, процент переболевших)"
   ]
  },
  {
   "cell_type": "code",
   "execution_count": 52,
   "id": "28f33f60",
   "metadata": {},
   "outputs": [
    {
     "name": "stdout",
     "output_type": "stream",
     "text": [
      "+--------+--------------+--------------------+\n",
      "|iso_code|      location|             procent|\n",
      "+--------+--------------+--------------------+\n",
      "|     VAT|       Vatican|0.007416563658838072|\n",
      "|     SMR|    San Marino|0.006953857033413872|\n",
      "|     AND|       Andorra|0.004866368989840161|\n",
      "|     LUX|    Luxembourg|0.003479366621084...|\n",
      "|     ISL|       Iceland|0.003326007326007326|\n",
      "|     ESP|         Spain|0.002051618975538...|\n",
      "|     CHE|   Switzerland|0.001918628875358...|\n",
      "|     LIE| Liechtenstein|0.001783045336549...|\n",
      "|     ITA|         Italy|0.001749732078891...|\n",
      "|     MCO|        Monaco|0.001325043318723...|\n",
      "|     AUT|       Austria|0.001130307337004...|\n",
      "|     BEL|       Belgium|0.001102279833947...|\n",
      "|OWID_EUN|European Union|8.938996679530879E-4|\n",
      "|     DEU|       Germany|8.570615766540952E-4|\n",
      "|     NOR|        Norway|8.560768916052816E-4|\n",
      "+--------+--------------+--------------------+\n",
      "only showing top 15 rows\n",
      "\n"
     ]
    }
   ],
   "source": [
    "df.select('iso_code', 'location', (F.col('total_cases')/F.col('population')).alias('procent'))\\\n",
    ".where(F.col('date') == '2020-03-31')\\\n",
    ".orderBy(F.col('procent').desc())\\\n",
    ".show(15)"
   ]
  },
  {
   "cell_type": "markdown",
   "id": "56e8c14a",
   "metadata": {},
   "source": [
    "Top 10 стран с максимальным зафиксированным кол-вом новых случаев за последнюю неделю марта 2021 в отсортированном порядке по убыванию\n",
    "(в выходящем датасете необходимы колонки: число, страна, кол-во новых случаев)"
   ]
  },
  {
   "cell_type": "code",
   "execution_count": 65,
   "id": "236035eb",
   "metadata": {},
   "outputs": [
    {
     "name": "stdout",
     "output_type": "stream",
     "text": [
      "+----------+-------------+---------+\n",
      "|      date|     location|new_cases|\n",
      "+----------+-------------+---------+\n",
      "|2021-04-04|        India| 103558.0|\n",
      "|2021-04-03|        India|  93249.0|\n",
      "|2021-04-01|       Brazil|  91097.0|\n",
      "|2021-03-31|       Brazil|  90638.0|\n",
      "|2021-04-02|        India|  89129.0|\n",
      "|2021-03-30|       Brazil|  84494.0|\n",
      "|2021-04-01|        India|  81466.0|\n",
      "|2021-04-04|       France|  80629.0|\n",
      "|2021-04-01|United States|  79045.0|\n",
      "|2021-03-31|        India|  72330.0|\n",
      "+----------+-------------+---------+\n",
      "only showing top 10 rows\n",
      "\n"
     ]
    }
   ],
   "source": [
    "df.select('date', 'location', 'new_cases')\\\n",
    ".where(F.col('date') >= '2021-03-29').where(F.col('date') <= '2021-04-04')\\\n",
    ".where(F.col('continent') != 'null')\\\n",
    ".orderBy(F.col('new_cases').desc()).show(10)\n"
   ]
  },
  {
   "cell_type": "markdown",
   "id": "fd430e71",
   "metadata": {},
   "source": [
    "Посчитайте изменение случаев относительно предыдущего дня в России за последнюю неделю марта 2021. (например: в россии вчера было 9150 , сегодня 8763, итог: -387) (в выходящем датасете необходимы колонки: число, кол-во новых случаев вчера, кол-во новых случаев сегодня, дельта)\n",
    "\n"
   ]
  },
  {
   "cell_type": "code",
   "execution_count": 91,
   "id": "ea91805c",
   "metadata": {},
   "outputs": [],
   "source": [
    "window = W.orderBy(\"date\")"
   ]
  },
  {
   "cell_type": "code",
   "execution_count": 101,
   "id": "aff0541e",
   "metadata": {
    "scrolled": false
   },
   "outputs": [
    {
     "name": "stdout",
     "output_type": "stream",
     "text": [
      "+----------+------+---------+------+\n",
      "|      date|   lag|new_cases| delta|\n",
      "+----------+------+---------+------+\n",
      "|2021-03-29|8979.0|   8589.0|-390.0|\n",
      "|2021-03-30|8589.0|   8162.0|-427.0|\n",
      "|2021-03-31|8162.0|   8156.0|  -6.0|\n",
      "|2021-04-01|8156.0|   9057.0| 901.0|\n",
      "|2021-04-02|9057.0|   8682.0|-375.0|\n",
      "|2021-04-03|8682.0|   8906.0| 224.0|\n",
      "|2021-04-04|8906.0|   8697.0|-209.0|\n",
      "+----------+------+---------+------+\n",
      "\n"
     ]
    },
    {
     "name": "stderr",
     "output_type": "stream",
     "text": [
      "23/10/31 22:47:12 WARN WindowExec: No Partition Defined for Window operation! Moving all data to a single partition, this can cause serious performance degradation.\n",
      "23/10/31 22:47:12 WARN WindowExec: No Partition Defined for Window operation! Moving all data to a single partition, this can cause serious performance degradation.\n",
      "23/10/31 22:47:12 WARN WindowExec: No Partition Defined for Window operation! Moving all data to a single partition, this can cause serious performance degradation.\n",
      "23/10/31 22:47:12 WARN WindowExec: No Partition Defined for Window operation! Moving all data to a single partition, this can cause serious performance degradation.\n",
      "23/10/31 22:47:12 WARN WindowExec: No Partition Defined for Window operation! Moving all data to a single partition, this can cause serious performance degradation.\n"
     ]
    }
   ],
   "source": [
    "df.select( 'date', 'new_cases', F.col('new_cases') - F.col('new_cases'))\\\n",
    ".where(F.col('location') == 'Russia')\\\n",
    ".select('date', F.lag('new_cases').over(window).alias('lag'),'new_cases')\\\n",
    ".where(F.col('date') >= '2021-03-29').where(F.col('date') <= '2021-04-04')\\\n",
    ".select('date', 'lag', 'new_cases', (F.col('new_cases')-F.col('lag')).alias('delta')).show()"
   ]
  },
  {
   "cell_type": "code",
   "execution_count": 102,
   "id": "ca8c5b75",
   "metadata": {},
   "outputs": [],
   "source": [
    "spark.stop()"
   ]
  }
 ],
 "metadata": {
  "kernelspec": {
   "display_name": "Python 3 (ipykernel)",
   "language": "python",
   "name": "python3"
  },
  "language_info": {
   "codemirror_mode": {
    "name": "ipython",
    "version": 3
   },
   "file_extension": ".py",
   "mimetype": "text/x-python",
   "name": "python",
   "nbconvert_exporter": "python",
   "pygments_lexer": "ipython3",
   "version": "3.11.5"
  }
 },
 "nbformat": 4,
 "nbformat_minor": 5
}
