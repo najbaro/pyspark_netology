{
 "cells": [
  {
   "cell_type": "code",
   "execution_count": 75,
   "id": "e99dc605",
   "metadata": {},
   "outputs": [],
   "source": [
    "from pyspark.sql import SparkSession\n",
    "from pyspark.sql import functions as F\n",
    "from pyspark.sql import Window as W"
   ]
  },
  {
   "cell_type": "code",
   "execution_count": 103,
   "id": "045e1eaa",
   "metadata": {},
   "outputs": [],
   "source": [
    "spark = SparkSession.builder.appName('test_name').getOrCreate()"
   ]
  },
  {
   "cell_type": "code",
   "execution_count": 104,
   "id": "8499ed72",
   "metadata": {},
   "outputs": [],
   "source": [
    "df = spark.read.option('inferSchema', 'true')\\\n",
    ".option('header', 'true').csv(\"/users/dznosok/downloads/owid-covid-data.csv\")"
   ]
  },
  {
   "cell_type": "code",
   "execution_count": 33,
   "id": "57717c48",
   "metadata": {},
   "outputs": [
    {
     "name": "stdout",
     "output_type": "stream",
     "text": [
      "root\n",
      " |-- iso_code: string (nullable = true)\n",
      " |-- continent: string (nullable = true)\n",
      " |-- location: string (nullable = true)\n",
      " |-- date: date (nullable = true)\n",
      " |-- total_cases: double (nullable = true)\n",
      " |-- new_cases: double (nullable = true)\n",
      " |-- new_cases_smoothed: double (nullable = true)\n",
      " |-- total_deaths: double (nullable = true)\n",
      " |-- new_deaths: double (nullable = true)\n",
      " |-- new_deaths_smoothed: double (nullable = true)\n",
      " |-- total_cases_per_million: double (nullable = true)\n",
      " |-- new_cases_per_million: double (nullable = true)\n",
      " |-- new_cases_smoothed_per_million: double (nullable = true)\n",
      " |-- total_deaths_per_million: double (nullable = true)\n",
      " |-- new_deaths_per_million: double (nullable = true)\n",
      " |-- new_deaths_smoothed_per_million: double (nullable = true)\n",
      " |-- reproduction_rate: double (nullable = true)\n",
      " |-- icu_patients: double (nullable = true)\n",
      " |-- icu_patients_per_million: double (nullable = true)\n",
      " |-- hosp_patients: double (nullable = true)\n",
      " |-- hosp_patients_per_million: double (nullable = true)\n",
      " |-- weekly_icu_admissions: double (nullable = true)\n",
      " |-- weekly_icu_admissions_per_million: double (nullable = true)\n",
      " |-- weekly_hosp_admissions: double (nullable = true)\n",
      " |-- weekly_hosp_admissions_per_million: double (nullable = true)\n",
      " |-- new_tests: double (nullable = true)\n",
      " |-- total_tests: double (nullable = true)\n",
      " |-- total_tests_per_thousand: double (nullable = true)\n",
      " |-- new_tests_per_thousand: double (nullable = true)\n",
      " |-- new_tests_smoothed: double (nullable = true)\n",
      " |-- new_tests_smoothed_per_thousand: double (nullable = true)\n",
      " |-- positive_rate: double (nullable = true)\n",
      " |-- tests_per_case: double (nullable = true)\n",
      " |-- tests_units: string (nullable = true)\n",
      " |-- total_vaccinations: double (nullable = true)\n",
      " |-- people_vaccinated: double (nullable = true)\n",
      " |-- people_fully_vaccinated: double (nullable = true)\n",
      " |-- new_vaccinations: double (nullable = true)\n",
      " |-- new_vaccinations_smoothed: double (nullable = true)\n",
      " |-- total_vaccinations_per_hundred: double (nullable = true)\n",
      " |-- people_vaccinated_per_hundred: double (nullable = true)\n",
      " |-- people_fully_vaccinated_per_hundred: double (nullable = true)\n",
      " |-- new_vaccinations_smoothed_per_million: double (nullable = true)\n",
      " |-- stringency_index: double (nullable = true)\n",
      " |-- population: double (nullable = true)\n",
      " |-- population_density: double (nullable = true)\n",
      " |-- median_age: double (nullable = true)\n",
      " |-- aged_65_older: double (nullable = true)\n",
      " |-- aged_70_older: double (nullable = true)\n",
      " |-- gdp_per_capita: double (nullable = true)\n",
      " |-- extreme_poverty: double (nullable = true)\n",
      " |-- cardiovasc_death_rate: double (nullable = true)\n",
      " |-- diabetes_prevalence: double (nullable = true)\n",
      " |-- female_smokers: double (nullable = true)\n",
      " |-- male_smokers: double (nullable = true)\n",
      " |-- handwashing_facilities: double (nullable = true)\n",
      " |-- hospital_beds_per_thousand: double (nullable = true)\n",
      " |-- life_expectancy: double (nullable = true)\n",
      " |-- human_development_index: double (nullable = true)\n",
      "\n"
     ]
    }
   ],
   "source": [
    "df.printSchema()"
   ]
  },
  {
   "cell_type": "markdown",
   "id": "faf08775",
   "metadata": {},
   "source": [
    "Выберите 15 стран с наибольшим процентом переболевших на 31 марта (в выходящем датасете необходимы колонки: iso_code, страна, процент переболевших)"
   ]
  },
  {
   "cell_type": "code",
   "execution_count": 105,
   "id": "28f33f60",
   "metadata": {},
   "outputs": [
    {
     "name": "stdout",
     "output_type": "stream",
     "text": [
      "+--------+-------------+-------------------+\n",
      "|iso_code|     location|            procent|\n",
      "+--------+-------------+-------------------+\n",
      "|     AND|      Andorra|0.15543907331909662|\n",
      "|     MNE|   Montenegro|0.14523725364693293|\n",
      "|     CZE|      Czechia|0.14308848404077998|\n",
      "|     SMR|   San Marino| 0.1393717956273204|\n",
      "|     SVN|     Slovenia|0.10370805779121203|\n",
      "|     LUX|   Luxembourg|0.09847342390123583|\n",
      "|     ISR|       Israel|0.09625106044786802|\n",
      "|     USA|United States|0.09203010995860707|\n",
      "|     SRB|       Serbia|0.08826328557933491|\n",
      "|     BHR|      Bahrain|0.08488860079114566|\n",
      "|     PAN|       Panama|0.08228739065460762|\n",
      "|     PRT|     Portugal|0.08058699735120368|\n",
      "|     EST|      Estonia| 0.0802268157965955|\n",
      "|     SWE|       Sweden|0.07969744347858805|\n",
      "|     LTU|    Lithuania|0.07938864728274825|\n",
      "+--------+-------------+-------------------+\n",
      "only showing top 15 rows\n",
      "\n"
     ]
    }
   ],
   "source": [
    "df.select('iso_code', 'location', (F.col('total_cases')/F.col('population')).alias('procent'))\\\n",
    ".where(F.col('date') == '2021-03-31')\\\n",
    ".orderBy(F.col('procent').desc())\\\n",
    ".show(15)"
   ]
  },
  {
   "cell_type": "markdown",
   "id": "2637c4fb",
   "metadata": {},
   "source": [
    "Top 10 стран с максимальным зафиксированным кол-вом новых случаев за последнюю неделю марта 2021 в отсортированном порядке по убыванию\n",
    "(в выходящем датасете необходимы колонки: число, страна, кол-во новых случаев)"
   ]
  },
  {
   "cell_type": "code",
   "execution_count": 108,
   "id": "a76c4180",
   "metadata": {},
   "outputs": [],
   "source": [
    "window = W.partitionBy(\"location\").orderBy(F.col(\"new_cases\").desc())"
   ]
  },
  {
   "cell_type": "code",
   "execution_count": 110,
   "id": "236035eb",
   "metadata": {},
   "outputs": [
    {
     "name": "stdout",
     "output_type": "stream",
     "text": [
      "+----------+--------------------+---------+\n",
      "|      date|            location|new_cases|\n",
      "+----------+--------------------+---------+\n",
      "|2021-04-01|              Poland|  35253.0|\n",
      "|2021-04-03|             Ukraine|  20456.0|\n",
      "|2021-04-02|         Philippines|  15298.0|\n",
      "|2021-03-30|              Serbia|   9983.0|\n",
      "|2021-04-01|            Cameroon|   9668.0|\n",
      "|2021-03-30|              Greece|   4322.0|\n",
      "|2021-03-29|              Kosovo|   4257.0|\n",
      "|2021-03-29|Bosnia and Herzeg...|   3755.0|\n",
      "|2021-04-01|            Ethiopia|   2372.0|\n",
      "|2021-04-04|           Venezuela|   1786.0|\n",
      "+----------+--------------------+---------+\n",
      "only showing top 10 rows\n",
      "\n"
     ]
    }
   ],
   "source": [
    "df.withColumn('rn', F.row_number().over(window))\\\n",
    ".select('date', 'location', 'new_cases')\\\n",
    ".where(F.col('date') >= '2021-03-29').where(F.col('date') <= '2021-04-04')\\\n",
    ".where(F.col('continent') != 'null')\\\n",
    ".where(F.col('rn')==1)\\\n",
    ".orderBy(F.col('new_cases').desc()).show(10)\n"
   ]
  },
  {
   "cell_type": "markdown",
   "id": "c7bf9c5d",
   "metadata": {},
   "source": [
    "Посчитайте изменение случаев относительно предыдущего дня в России за последнюю неделю марта 2021. (например: в россии вчера было 9150 , сегодня 8763, итог: -387) (в выходящем датасете необходимы колонки: число, кол-во новых случаев вчера, кол-во новых случаев сегодня, дельта)\n",
    "\n"
   ]
  },
  {
   "cell_type": "code",
   "execution_count": 91,
   "id": "cf81dc10",
   "metadata": {},
   "outputs": [],
   "source": [
    "window = W.orderBy(\"date\")"
   ]
  },
  {
   "cell_type": "code",
   "execution_count": 101,
   "id": "ad45d04f",
   "metadata": {
    "scrolled": false
   },
   "outputs": [
    {
     "name": "stdout",
     "output_type": "stream",
     "text": [
      "+----------+------+---------+------+\n",
      "|      date|   lag|new_cases| delta|\n",
      "+----------+------+---------+------+\n",
      "|2021-03-29|8979.0|   8589.0|-390.0|\n",
      "|2021-03-30|8589.0|   8162.0|-427.0|\n",
      "|2021-03-31|8162.0|   8156.0|  -6.0|\n",
      "|2021-04-01|8156.0|   9057.0| 901.0|\n",
      "|2021-04-02|9057.0|   8682.0|-375.0|\n",
      "|2021-04-03|8682.0|   8906.0| 224.0|\n",
      "|2021-04-04|8906.0|   8697.0|-209.0|\n",
      "+----------+------+---------+------+\n",
      "\n"
     ]
    },
    {
     "name": "stderr",
     "output_type": "stream",
     "text": [
      "23/10/31 22:47:12 WARN WindowExec: No Partition Defined for Window operation! Moving all data to a single partition, this can cause serious performance degradation.\n",
      "23/10/31 22:47:12 WARN WindowExec: No Partition Defined for Window operation! Moving all data to a single partition, this can cause serious performance degradation.\n",
      "23/10/31 22:47:12 WARN WindowExec: No Partition Defined for Window operation! Moving all data to a single partition, this can cause serious performance degradation.\n",
      "23/10/31 22:47:12 WARN WindowExec: No Partition Defined for Window operation! Moving all data to a single partition, this can cause serious performance degradation.\n",
      "23/10/31 22:47:12 WARN WindowExec: No Partition Defined for Window operation! Moving all data to a single partition, this can cause serious performance degradation.\n"
     ]
    }
   ],
   "source": [
    "df.select( 'date', 'new_cases', F.col('new_cases') - F.col('new_cases'))\\\n",
    ".where(F.col('location') == 'Russia')\\\n",
    ".select('date', F.lag('new_cases').over(window).alias('lag'),'new_cases')\\\n",
    ".where(F.col('date') >= '2021-03-29').where(F.col('date') <= '2021-04-04')\\\n",
    ".select('date', 'lag', 'new_cases', (F.col('new_cases')-F.col('lag')).alias('delta')).show()"
   ]
  },
  {
   "cell_type": "code",
   "execution_count": 102,
   "id": "547b3ffa",
   "metadata": {},
   "outputs": [],
   "source": [
    "spark.stop()"
   ]
  }
 ],
 "metadata": {
  "kernelspec": {
   "display_name": "Python 3 (ipykernel)",
   "language": "python",
   "name": "python3"
  },
  "language_info": {
   "codemirror_mode": {
    "name": "ipython",
    "version": 3
   },
   "file_extension": ".py",
   "mimetype": "text/x-python",
   "name": "python",
   "nbconvert_exporter": "python",
   "pygments_lexer": "ipython3",
   "version": "3.11.5"
  }
 },
 "nbformat": 4,
 "nbformat_minor": 5
}
